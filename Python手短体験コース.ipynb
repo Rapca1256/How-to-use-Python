[![Open In Colab](https://colab.research.google.com/assets/colab-badge.svg)](https://colab.research.google.com/github/Rapca1256/How-to-use-Python/edit/main/Python手短体験コース.ipynb)
